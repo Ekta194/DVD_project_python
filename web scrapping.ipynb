{
 "cells": [
  {
   "cell_type": "code",
   "execution_count": 3,
   "id": "16a1a9b3",
   "metadata": {},
   "outputs": [],
   "source": [
    "# Standard imports\n",
    "import pandas as pd\n",
    "\n",
    "# For web scraping\n",
    "import requests\n",
    "import urllib.request\n",
    "from bs4 import BeautifulSoup\n",
    "\n",
    "# For performing regex operations\n",
    "import re\n",
    "\n",
    "# Data visualization\n",
    "import seaborn as sns\n",
    "import matplotlib.pyplot as plt"
   ]
  },
  {
   "cell_type": "code",
   "execution_count": 2,
   "id": "809c1679",
   "metadata": {},
   "outputs": [],
   "source": [
    "# Save the URL of the webpage we want to scrape to a variable\n",
    "url = 'https://docs.python.org/3/library/random.html#module-random'"
   ]
  },
  {
   "cell_type": "code",
   "execution_count": 4,
   "id": "f1ce7d37",
   "metadata": {},
   "outputs": [],
   "source": [
    "# Send a get request and assign the response to a variable\n",
    "response = requests.get(url)"
   ]
  },
  {
   "cell_type": "code",
   "execution_count": 5,
   "id": "bae294ab",
   "metadata": {},
   "outputs": [
    {
     "data": {
      "text/plain": [
       "bs4.BeautifulSoup"
      ]
     },
     "execution_count": 5,
     "metadata": {},
     "output_type": "execute_result"
    }
   ],
   "source": [
    "# Turn the undecoded content into a Beautiful Soup object and assign it to a variable\n",
    "soup = BeautifulSoup(response.content)\n",
    "type(soup)"
   ]
  },
  {
   "cell_type": "code",
   "execution_count": 6,
   "id": "83e7755f",
   "metadata": {},
   "outputs": [
    {
     "name": "stdout",
     "output_type": "stream",
     "text": [
      "[<dt class=\"sig sig-object py\" id=\"random.seed\">\n",
      "<span class=\"sig-prename descclassname\"><span class=\"pre\">random.</span></span><span class=\"sig-name descname\"><span class=\"pre\">seed</span></span><span class=\"sig-paren\">(</span><em class=\"sig-param\"><span class=\"n\"><span class=\"pre\">a</span></span><span class=\"o\"><span class=\"pre\">=</span></span><span class=\"default_value\"><span class=\"pre\">None</span></span></em>, <em class=\"sig-param\"><span class=\"n\"><span class=\"pre\">version</span></span><span class=\"o\"><span class=\"pre\">=</span></span><span class=\"default_value\"><span class=\"pre\">2</span></span></em><span class=\"sig-paren\">)</span><a class=\"headerlink\" href=\"#random.seed\" title=\"Permalink to this definition\">¶</a></dt>, <dt class=\"sig sig-object py\" id=\"random.getstate\">\n",
      "<span class=\"sig-prename descclassname\"><span class=\"pre\">random.</span></span><span class=\"sig-name descname\"><span class=\"pre\">getstate</span></span><span class=\"sig-paren\">(</span><span class=\"sig-paren\">)</span><a class=\"headerlink\" href=\"#random.getstate\" title=\"Permalink to this definition\">¶</a></dt>, <dt class=\"sig sig-object py\" id=\"random.setstate\">\n",
      "<span class=\"sig-prename descclassname\"><span class=\"pre\">random.</span></span><span class=\"sig-name descname\"><span class=\"pre\">setstate</span></span><span class=\"sig-paren\">(</span><em class=\"sig-param\"><span class=\"n\"><span class=\"pre\">state</span></span></em><span class=\"sig-paren\">)</span><a class=\"headerlink\" href=\"#random.setstate\" title=\"Permalink to this definition\">¶</a></dt>, <dt class=\"sig sig-object py\" id=\"random.randbytes\">\n",
      "<span class=\"sig-prename descclassname\"><span class=\"pre\">random.</span></span><span class=\"sig-name descname\"><span class=\"pre\">randbytes</span></span><span class=\"sig-paren\">(</span><em class=\"sig-param\"><span class=\"n\"><span class=\"pre\">n</span></span></em><span class=\"sig-paren\">)</span><a class=\"headerlink\" href=\"#random.randbytes\" title=\"Permalink to this definition\">¶</a></dt>, <dt class=\"sig sig-object py\" id=\"random.randrange\">\n",
      "<span class=\"sig-prename descclassname\"><span class=\"pre\">random.</span></span><span class=\"sig-name descname\"><span class=\"pre\">randrange</span></span><span class=\"sig-paren\">(</span><em class=\"sig-param\"><span class=\"n\"><span class=\"pre\">stop</span></span></em><span class=\"sig-paren\">)</span><a class=\"headerlink\" href=\"#random.randrange\" title=\"Permalink to this definition\">¶</a></dt>, <dt class=\"sig sig-object py\">\n",
      "<span class=\"sig-prename descclassname\"><span class=\"pre\">random.</span></span><span class=\"sig-name descname\"><span class=\"pre\">randrange</span></span><span class=\"sig-paren\">(</span><em class=\"sig-param\"><span class=\"n\"><span class=\"pre\">start</span></span></em>, <em class=\"sig-param\"><span class=\"n\"><span class=\"pre\">stop</span></span></em><span class=\"optional\">[</span>, <em class=\"sig-param\"><span class=\"n\"><span class=\"pre\">step</span></span></em><span class=\"optional\">]</span><span class=\"sig-paren\">)</span></dt>, <dt class=\"sig sig-object py\" id=\"random.randint\">\n",
      "<span class=\"sig-prename descclassname\"><span class=\"pre\">random.</span></span><span class=\"sig-name descname\"><span class=\"pre\">randint</span></span><span class=\"sig-paren\">(</span><em class=\"sig-param\"><span class=\"n\"><span class=\"pre\">a</span></span></em>, <em class=\"sig-param\"><span class=\"n\"><span class=\"pre\">b</span></span></em><span class=\"sig-paren\">)</span><a class=\"headerlink\" href=\"#random.randint\" title=\"Permalink to this definition\">¶</a></dt>, <dt class=\"sig sig-object py\" id=\"random.getrandbits\">\n",
      "<span class=\"sig-prename descclassname\"><span class=\"pre\">random.</span></span><span class=\"sig-name descname\"><span class=\"pre\">getrandbits</span></span><span class=\"sig-paren\">(</span><em class=\"sig-param\"><span class=\"n\"><span class=\"pre\">k</span></span></em><span class=\"sig-paren\">)</span><a class=\"headerlink\" href=\"#random.getrandbits\" title=\"Permalink to this definition\">¶</a></dt>, <dt class=\"sig sig-object py\" id=\"random.choice\">\n",
      "<span class=\"sig-prename descclassname\"><span class=\"pre\">random.</span></span><span class=\"sig-name descname\"><span class=\"pre\">choice</span></span><span class=\"sig-paren\">(</span><em class=\"sig-param\"><span class=\"n\"><span class=\"pre\">seq</span></span></em><span class=\"sig-paren\">)</span><a class=\"headerlink\" href=\"#random.choice\" title=\"Permalink to this definition\">¶</a></dt>, <dt class=\"sig sig-object py\" id=\"random.choices\">\n",
      "<span class=\"sig-prename descclassname\"><span class=\"pre\">random.</span></span><span class=\"sig-name descname\"><span class=\"pre\">choices</span></span><span class=\"sig-paren\">(</span><em class=\"sig-param\"><span class=\"n\"><span class=\"pre\">population</span></span></em>, <em class=\"sig-param\"><span class=\"n\"><span class=\"pre\">weights</span></span><span class=\"o\"><span class=\"pre\">=</span></span><span class=\"default_value\"><span class=\"pre\">None</span></span></em>, <em class=\"sig-param\"><span class=\"o\"><span class=\"pre\">*</span></span></em>, <em class=\"sig-param\"><span class=\"n\"><span class=\"pre\">cum_weights</span></span><span class=\"o\"><span class=\"pre\">=</span></span><span class=\"default_value\"><span class=\"pre\">None</span></span></em>, <em class=\"sig-param\"><span class=\"n\"><span class=\"pre\">k</span></span><span class=\"o\"><span class=\"pre\">=</span></span><span class=\"default_value\"><span class=\"pre\">1</span></span></em><span class=\"sig-paren\">)</span><a class=\"headerlink\" href=\"#random.choices\" title=\"Permalink to this definition\">¶</a></dt>, <dt class=\"sig sig-object py\" id=\"random.shuffle\">\n",
      "<span class=\"sig-prename descclassname\"><span class=\"pre\">random.</span></span><span class=\"sig-name descname\"><span class=\"pre\">shuffle</span></span><span class=\"sig-paren\">(</span><em class=\"sig-param\"><span class=\"n\"><span class=\"pre\">x</span></span></em><span class=\"sig-paren\">)</span><a class=\"headerlink\" href=\"#random.shuffle\" title=\"Permalink to this definition\">¶</a></dt>, <dt class=\"sig sig-object py\" id=\"random.sample\">\n",
      "<span class=\"sig-prename descclassname\"><span class=\"pre\">random.</span></span><span class=\"sig-name descname\"><span class=\"pre\">sample</span></span><span class=\"sig-paren\">(</span><em class=\"sig-param\"><span class=\"n\"><span class=\"pre\">population</span></span></em>, <em class=\"sig-param\"><span class=\"n\"><span class=\"pre\">k</span></span></em>, <em class=\"sig-param\"><span class=\"o\"><span class=\"pre\">*</span></span></em>, <em class=\"sig-param\"><span class=\"n\"><span class=\"pre\">counts</span></span><span class=\"o\"><span class=\"pre\">=</span></span><span class=\"default_value\"><span class=\"pre\">None</span></span></em><span class=\"sig-paren\">)</span><a class=\"headerlink\" href=\"#random.sample\" title=\"Permalink to this definition\">¶</a></dt>, <dt class=\"sig sig-object py\" id=\"random.random\">\n",
      "<span class=\"sig-prename descclassname\"><span class=\"pre\">random.</span></span><span class=\"sig-name descname\"><span class=\"pre\">random</span></span><span class=\"sig-paren\">(</span><span class=\"sig-paren\">)</span><a class=\"headerlink\" href=\"#random.random\" title=\"Permalink to this definition\">¶</a></dt>, <dt class=\"sig sig-object py\" id=\"random.uniform\">\n",
      "<span class=\"sig-prename descclassname\"><span class=\"pre\">random.</span></span><span class=\"sig-name descname\"><span class=\"pre\">uniform</span></span><span class=\"sig-paren\">(</span><em class=\"sig-param\"><span class=\"n\"><span class=\"pre\">a</span></span></em>, <em class=\"sig-param\"><span class=\"n\"><span class=\"pre\">b</span></span></em><span class=\"sig-paren\">)</span><a class=\"headerlink\" href=\"#random.uniform\" title=\"Permalink to this definition\">¶</a></dt>, <dt class=\"sig sig-object py\" id=\"random.triangular\">\n",
      "<span class=\"sig-prename descclassname\"><span class=\"pre\">random.</span></span><span class=\"sig-name descname\"><span class=\"pre\">triangular</span></span><span class=\"sig-paren\">(</span><em class=\"sig-param\"><span class=\"n\"><span class=\"pre\">low</span></span></em>, <em class=\"sig-param\"><span class=\"n\"><span class=\"pre\">high</span></span></em>, <em class=\"sig-param\"><span class=\"n\"><span class=\"pre\">mode</span></span></em><span class=\"sig-paren\">)</span><a class=\"headerlink\" href=\"#random.triangular\" title=\"Permalink to this definition\">¶</a></dt>, <dt class=\"sig sig-object py\" id=\"random.betavariate\">\n",
      "<span class=\"sig-prename descclassname\"><span class=\"pre\">random.</span></span><span class=\"sig-name descname\"><span class=\"pre\">betavariate</span></span><span class=\"sig-paren\">(</span><em class=\"sig-param\"><span class=\"n\"><span class=\"pre\">alpha</span></span></em>, <em class=\"sig-param\"><span class=\"n\"><span class=\"pre\">beta</span></span></em><span class=\"sig-paren\">)</span><a class=\"headerlink\" href=\"#random.betavariate\" title=\"Permalink to this definition\">¶</a></dt>, <dt class=\"sig sig-object py\" id=\"random.expovariate\">\n",
      "<span class=\"sig-prename descclassname\"><span class=\"pre\">random.</span></span><span class=\"sig-name descname\"><span class=\"pre\">expovariate</span></span><span class=\"sig-paren\">(</span><em class=\"sig-param\"><span class=\"n\"><span class=\"pre\">lambd</span></span></em><span class=\"sig-paren\">)</span><a class=\"headerlink\" href=\"#random.expovariate\" title=\"Permalink to this definition\">¶</a></dt>, <dt class=\"sig sig-object py\" id=\"random.gammavariate\">\n",
      "<span class=\"sig-prename descclassname\"><span class=\"pre\">random.</span></span><span class=\"sig-name descname\"><span class=\"pre\">gammavariate</span></span><span class=\"sig-paren\">(</span><em class=\"sig-param\"><span class=\"n\"><span class=\"pre\">alpha</span></span></em>, <em class=\"sig-param\"><span class=\"n\"><span class=\"pre\">beta</span></span></em><span class=\"sig-paren\">)</span><a class=\"headerlink\" href=\"#random.gammavariate\" title=\"Permalink to this definition\">¶</a></dt>, <dt class=\"sig sig-object py\" id=\"random.gauss\">\n",
      "<span class=\"sig-prename descclassname\"><span class=\"pre\">random.</span></span><span class=\"sig-name descname\"><span class=\"pre\">gauss</span></span><span class=\"sig-paren\">(</span><em class=\"sig-param\"><span class=\"n\"><span class=\"pre\">mu</span></span><span class=\"o\"><span class=\"pre\">=</span></span><span class=\"default_value\"><span class=\"pre\">0.0</span></span></em>, <em class=\"sig-param\"><span class=\"n\"><span class=\"pre\">sigma</span></span><span class=\"o\"><span class=\"pre\">=</span></span><span class=\"default_value\"><span class=\"pre\">1.0</span></span></em><span class=\"sig-paren\">)</span><a class=\"headerlink\" href=\"#random.gauss\" title=\"Permalink to this definition\">¶</a></dt>, <dt class=\"sig sig-object py\" id=\"random.lognormvariate\">\n",
      "<span class=\"sig-prename descclassname\"><span class=\"pre\">random.</span></span><span class=\"sig-name descname\"><span class=\"pre\">lognormvariate</span></span><span class=\"sig-paren\">(</span><em class=\"sig-param\"><span class=\"n\"><span class=\"pre\">mu</span></span></em>, <em class=\"sig-param\"><span class=\"n\"><span class=\"pre\">sigma</span></span></em><span class=\"sig-paren\">)</span><a class=\"headerlink\" href=\"#random.lognormvariate\" title=\"Permalink to this definition\">¶</a></dt>, <dt class=\"sig sig-object py\" id=\"random.normalvariate\">\n",
      "<span class=\"sig-prename descclassname\"><span class=\"pre\">random.</span></span><span class=\"sig-name descname\"><span class=\"pre\">normalvariate</span></span><span class=\"sig-paren\">(</span><em class=\"sig-param\"><span class=\"n\"><span class=\"pre\">mu</span></span><span class=\"o\"><span class=\"pre\">=</span></span><span class=\"default_value\"><span class=\"pre\">0.0</span></span></em>, <em class=\"sig-param\"><span class=\"n\"><span class=\"pre\">sigma</span></span><span class=\"o\"><span class=\"pre\">=</span></span><span class=\"default_value\"><span class=\"pre\">1.0</span></span></em><span class=\"sig-paren\">)</span><a class=\"headerlink\" href=\"#random.normalvariate\" title=\"Permalink to this definition\">¶</a></dt>, <dt class=\"sig sig-object py\" id=\"random.vonmisesvariate\">\n",
      "<span class=\"sig-prename descclassname\"><span class=\"pre\">random.</span></span><span class=\"sig-name descname\"><span class=\"pre\">vonmisesvariate</span></span><span class=\"sig-paren\">(</span><em class=\"sig-param\"><span class=\"n\"><span class=\"pre\">mu</span></span></em>, <em class=\"sig-param\"><span class=\"n\"><span class=\"pre\">kappa</span></span></em><span class=\"sig-paren\">)</span><a class=\"headerlink\" href=\"#random.vonmisesvariate\" title=\"Permalink to this definition\">¶</a></dt>, <dt class=\"sig sig-object py\" id=\"random.paretovariate\">\n",
      "<span class=\"sig-prename descclassname\"><span class=\"pre\">random.</span></span><span class=\"sig-name descname\"><span class=\"pre\">paretovariate</span></span><span class=\"sig-paren\">(</span><em class=\"sig-param\"><span class=\"n\"><span class=\"pre\">alpha</span></span></em><span class=\"sig-paren\">)</span><a class=\"headerlink\" href=\"#random.paretovariate\" title=\"Permalink to this definition\">¶</a></dt>, <dt class=\"sig sig-object py\" id=\"random.weibullvariate\">\n",
      "<span class=\"sig-prename descclassname\"><span class=\"pre\">random.</span></span><span class=\"sig-name descname\"><span class=\"pre\">weibullvariate</span></span><span class=\"sig-paren\">(</span><em class=\"sig-param\"><span class=\"n\"><span class=\"pre\">alpha</span></span></em>, <em class=\"sig-param\"><span class=\"n\"><span class=\"pre\">beta</span></span></em><span class=\"sig-paren\">)</span><a class=\"headerlink\" href=\"#random.weibullvariate\" title=\"Permalink to this definition\">¶</a></dt>, <dt class=\"sig sig-object py\" id=\"random.Random\">\n",
      "<em class=\"property\"><span class=\"pre\">class</span><span class=\"w\"> </span></em><span class=\"sig-prename descclassname\"><span class=\"pre\">random.</span></span><span class=\"sig-name descname\"><span class=\"pre\">Random</span></span><span class=\"sig-paren\">(</span><span class=\"optional\">[</span><em class=\"sig-param\"><span class=\"n\"><span class=\"pre\">seed</span></span></em><span class=\"optional\">]</span><span class=\"sig-paren\">)</span><a class=\"headerlink\" href=\"#random.Random\" title=\"Permalink to this definition\">¶</a></dt>, <dt class=\"sig sig-object py\" id=\"random.SystemRandom\">\n",
      "<em class=\"property\"><span class=\"pre\">class</span><span class=\"w\"> </span></em><span class=\"sig-prename descclassname\"><span class=\"pre\">random.</span></span><span class=\"sig-name descname\"><span class=\"pre\">SystemRandom</span></span><span class=\"sig-paren\">(</span><span class=\"optional\">[</span><em class=\"sig-param\"><span class=\"n\"><span class=\"pre\">seed</span></span></em><span class=\"optional\">]</span><span class=\"sig-paren\">)</span><a class=\"headerlink\" href=\"#random.SystemRandom\" title=\"Permalink to this definition\">¶</a></dt>]\n"
     ]
    }
   ],
   "source": [
    "# Find all function names - we specify the name of the element in this case is 'dt'\n",
    "\n",
    "names = soup.body.findAll('dt')\n",
    "\n",
    "print(names)"
   ]
  },
  {
   "cell_type": "code",
   "execution_count": 14,
   "id": "15100446",
   "metadata": {},
   "outputs": [
    {
     "name": "stdout",
     "output_type": "stream",
     "text": [
      "['id=\"random.seed', 'id=\"random.getstate', 'id=\"random.setstate', 'id=\"random.randbytes', 'id=\"random.randrange', 'id=\"random.randint', 'id=\"random.getrandbits', 'id=\"random.choice', 'id=\"random.choices', 'id=\"random.shuffle', 'id=\"random.sample', 'id=\"random.random', 'id=\"random.uniform', 'id=\"random.triangular', 'id=\"random.betavariate', 'id=\"random.expovariate', 'id=\"random.gammavariate', 'id=\"random.gauss', 'id=\"random.lognormvariate', 'id=\"random.normalvariate', 'id=\"random.vonmisesvariate', 'id=\"random.paretovariate', 'id=\"random.weibullvariate', 'id=\"random.Random', 'id=\"random.SystemRandom']\n"
     ]
    }
   ],
   "source": [
    "# Find all the information we're looking for with regex\n",
    "# In this case, it would be every string at starts with id='random.'\n",
    "\n",
    "function_names = re.findall('id=\"random.\\w+' , str(names)) # '\\w+' which means the string should end with the function name\n",
    "\n",
    "# Let print the results\n",
    "print(function_names)"
   ]
  },
  {
   "cell_type": "code",
   "execution_count": 15,
   "id": "474de5e7",
   "metadata": {},
   "outputs": [
    {
     "name": "stdout",
     "output_type": "stream",
     "text": [
      "['random.seed', 'random.getstate', 'random.setstate', 'random.randbytes', 'random.randrange', 'random.randint', 'random.getrandbits', 'random.choice', 'random.choices', 'random.shuffle', 'random.sample', 'random.random', 'random.uniform', 'random.triangular', 'random.betavariate', 'random.expovariate', 'random.gammavariate', 'random.gauss', 'random.lognormvariate', 'random.normalvariate', 'random.vonmisesvariate', 'random.paretovariate', 'random.weibullvariate', 'random.Random', 'random.SystemRandom']\n"
     ]
    }
   ],
   "source": [
    "# Using list comprehension to edit our values:\n",
    "\n",
    "function_names = [item[4:] for item in function_names]\n",
    "\n",
    "# Let print the results\n",
    "print(function_names)"
   ]
  },
  {
   "cell_type": "code",
   "execution_count": 16,
   "id": "c6a102f5",
   "metadata": {},
   "outputs": [],
   "source": [
    "# Find all the function description\n",
    "\n",
    "description = soup.body.findAll('dd')\n",
    "\n",
    "#print(description)"
   ]
  },
  {
   "cell_type": "code",
   "execution_count": 17,
   "id": "125da2c3",
   "metadata": {},
   "outputs": [],
   "source": [
    "# Create a list\n",
    "\n",
    "function_usage = []\n",
    "\n",
    "# Create a loop\n",
    "\n",
    "for item in description:\n",
    "    item = item.text      #  Save the extracted text to a variable\n",
    "    item = item.replace('\\n', ' ')     # to get rid of the next line operator which is `\\n` \n",
    "    function_usage.append(item)\n",
    "    \n",
    "#print(function_usage)  # Don't get overwhelmed! they are just all the function description from the above function names"
   ]
  },
  {
   "cell_type": "code",
   "execution_count": 18,
   "id": "d5eadf00",
   "metadata": {},
   "outputs": [
    {
     "name": "stdout",
     "output_type": "stream",
     "text": [
      " Length of function_names: 25\n",
      " Length of function_usage: 25\n"
     ]
    }
   ],
   "source": [
    "# Let's check the length of the function_names and function_usage\n",
    "\n",
    "print(f' Length of function_names: {len(function_names)}')\n",
    "print(f' Length of function_usage: {len(function_usage)}')"
   ]
  },
  {
   "cell_type": "code",
   "execution_count": 19,
   "id": "9620af02",
   "metadata": {},
   "outputs": [
    {
     "data": {
      "text/html": [
       "<div>\n",
       "<style scoped>\n",
       "    .dataframe tbody tr th:only-of-type {\n",
       "        vertical-align: middle;\n",
       "    }\n",
       "\n",
       "    .dataframe tbody tr th {\n",
       "        vertical-align: top;\n",
       "    }\n",
       "\n",
       "    .dataframe thead th {\n",
       "        text-align: right;\n",
       "    }\n",
       "</style>\n",
       "<table border=\"1\" class=\"dataframe\">\n",
       "  <thead>\n",
       "    <tr style=\"text-align: right;\">\n",
       "      <th></th>\n",
       "      <th>function name</th>\n",
       "      <th>function usage</th>\n",
       "    </tr>\n",
       "  </thead>\n",
       "  <tbody>\n",
       "    <tr>\n",
       "      <th>0</th>\n",
       "      <td>random.seed</td>\n",
       "      <td>Initialize the random number generator. If a i...</td>\n",
       "    </tr>\n",
       "    <tr>\n",
       "      <th>1</th>\n",
       "      <td>random.getstate</td>\n",
       "      <td>Return an object capturing the current interna...</td>\n",
       "    </tr>\n",
       "    <tr>\n",
       "      <th>2</th>\n",
       "      <td>random.setstate</td>\n",
       "      <td>state should have been obtained from a previou...</td>\n",
       "    </tr>\n",
       "    <tr>\n",
       "      <th>3</th>\n",
       "      <td>random.randbytes</td>\n",
       "      <td>Generate n random bytes. This method should no...</td>\n",
       "    </tr>\n",
       "    <tr>\n",
       "      <th>4</th>\n",
       "      <td>random.randrange</td>\n",
       "      <td>Return a randomly selected element from range(...</td>\n",
       "    </tr>\n",
       "    <tr>\n",
       "      <th>5</th>\n",
       "      <td>random.randint</td>\n",
       "      <td>Return a random integer N such that a &lt;= N &lt;= ...</td>\n",
       "    </tr>\n",
       "    <tr>\n",
       "      <th>6</th>\n",
       "      <td>random.getrandbits</td>\n",
       "      <td>Returns a non-negative Python integer with k r...</td>\n",
       "    </tr>\n",
       "    <tr>\n",
       "      <th>7</th>\n",
       "      <td>random.choice</td>\n",
       "      <td>Return a random element from the non-empty seq...</td>\n",
       "    </tr>\n",
       "    <tr>\n",
       "      <th>8</th>\n",
       "      <td>random.choices</td>\n",
       "      <td>Return a k sized list of elements chosen from ...</td>\n",
       "    </tr>\n",
       "    <tr>\n",
       "      <th>9</th>\n",
       "      <td>random.shuffle</td>\n",
       "      <td>Shuffle the sequence x in place. To shuffle an...</td>\n",
       "    </tr>\n",
       "    <tr>\n",
       "      <th>10</th>\n",
       "      <td>random.sample</td>\n",
       "      <td>Return a k length list of unique elements chos...</td>\n",
       "    </tr>\n",
       "    <tr>\n",
       "      <th>11</th>\n",
       "      <td>random.random</td>\n",
       "      <td>Return the next random floating point number i...</td>\n",
       "    </tr>\n",
       "    <tr>\n",
       "      <th>12</th>\n",
       "      <td>random.uniform</td>\n",
       "      <td>Return a random floating point number N such t...</td>\n",
       "    </tr>\n",
       "    <tr>\n",
       "      <th>13</th>\n",
       "      <td>random.triangular</td>\n",
       "      <td>Return a random floating point number N such t...</td>\n",
       "    </tr>\n",
       "    <tr>\n",
       "      <th>14</th>\n",
       "      <td>random.betavariate</td>\n",
       "      <td>Beta distribution.  Conditions on the paramete...</td>\n",
       "    </tr>\n",
       "    <tr>\n",
       "      <th>15</th>\n",
       "      <td>random.expovariate</td>\n",
       "      <td>Exponential distribution.  lambd is 1.0 divide...</td>\n",
       "    </tr>\n",
       "    <tr>\n",
       "      <th>16</th>\n",
       "      <td>random.gammavariate</td>\n",
       "      <td>Gamma distribution.  (Not the gamma function!)...</td>\n",
       "    </tr>\n",
       "    <tr>\n",
       "      <th>17</th>\n",
       "      <td>random.gauss</td>\n",
       "      <td>Normal distribution, also called the Gaussian ...</td>\n",
       "    </tr>\n",
       "    <tr>\n",
       "      <th>18</th>\n",
       "      <td>random.lognormvariate</td>\n",
       "      <td>Log normal distribution.  If you take the natu...</td>\n",
       "    </tr>\n",
       "    <tr>\n",
       "      <th>19</th>\n",
       "      <td>random.normalvariate</td>\n",
       "      <td>Normal distribution.  mu is the mean, and sigm...</td>\n",
       "    </tr>\n",
       "    <tr>\n",
       "      <th>20</th>\n",
       "      <td>random.vonmisesvariate</td>\n",
       "      <td>mu is the mean angle, expressed in radians bet...</td>\n",
       "    </tr>\n",
       "    <tr>\n",
       "      <th>21</th>\n",
       "      <td>random.paretovariate</td>\n",
       "      <td>Pareto distribution.  alpha is the shape param...</td>\n",
       "    </tr>\n",
       "    <tr>\n",
       "      <th>22</th>\n",
       "      <td>random.weibullvariate</td>\n",
       "      <td>Weibull distribution.  alpha is the scale para...</td>\n",
       "    </tr>\n",
       "    <tr>\n",
       "      <th>23</th>\n",
       "      <td>random.Random</td>\n",
       "      <td>Class that implements the default pseudo-rando...</td>\n",
       "    </tr>\n",
       "    <tr>\n",
       "      <th>24</th>\n",
       "      <td>random.SystemRandom</td>\n",
       "      <td>Class that uses the os.urandom() function for ...</td>\n",
       "    </tr>\n",
       "  </tbody>\n",
       "</table>\n",
       "</div>"
      ],
      "text/plain": [
       "             function name                                     function usage\n",
       "0              random.seed  Initialize the random number generator. If a i...\n",
       "1          random.getstate  Return an object capturing the current interna...\n",
       "2          random.setstate  state should have been obtained from a previou...\n",
       "3         random.randbytes  Generate n random bytes. This method should no...\n",
       "4         random.randrange  Return a randomly selected element from range(...\n",
       "5           random.randint  Return a random integer N such that a <= N <= ...\n",
       "6       random.getrandbits  Returns a non-negative Python integer with k r...\n",
       "7            random.choice  Return a random element from the non-empty seq...\n",
       "8           random.choices  Return a k sized list of elements chosen from ...\n",
       "9           random.shuffle  Shuffle the sequence x in place. To shuffle an...\n",
       "10           random.sample  Return a k length list of unique elements chos...\n",
       "11           random.random  Return the next random floating point number i...\n",
       "12          random.uniform  Return a random floating point number N such t...\n",
       "13       random.triangular  Return a random floating point number N such t...\n",
       "14      random.betavariate  Beta distribution.  Conditions on the paramete...\n",
       "15      random.expovariate  Exponential distribution.  lambd is 1.0 divide...\n",
       "16     random.gammavariate  Gamma distribution.  (Not the gamma function!)...\n",
       "17            random.gauss  Normal distribution, also called the Gaussian ...\n",
       "18   random.lognormvariate  Log normal distribution.  If you take the natu...\n",
       "19    random.normalvariate  Normal distribution.  mu is the mean, and sigm...\n",
       "20  random.vonmisesvariate  mu is the mean angle, expressed in radians bet...\n",
       "21    random.paretovariate  Pareto distribution.  alpha is the shape param...\n",
       "22   random.weibullvariate  Weibull distribution.  alpha is the scale para...\n",
       "23           random.Random  Class that implements the default pseudo-rando...\n",
       "24     random.SystemRandom  Class that uses the os.urandom() function for ..."
      ]
     },
     "execution_count": 19,
     "metadata": {},
     "output_type": "execute_result"
    }
   ],
   "source": [
    "\n",
    "data = pd.DataFrame( {  'function name': function_names, \n",
    "                      'function usage' : function_usage  } )\n",
    "\n",
    "data"
   ]
  },
  {
   "cell_type": "code",
   "execution_count": 20,
   "id": "bcec4b51",
   "metadata": {},
   "outputs": [],
   "source": [
    "data.to_csv('random_function.csv')"
   ]
  },
  {
   "cell_type": "code",
   "execution_count": null,
   "id": "f986beff",
   "metadata": {},
   "outputs": [],
   "source": []
  }
 ],
 "metadata": {
  "kernelspec": {
   "display_name": "Python 3 (ipykernel)",
   "language": "python",
   "name": "python3"
  },
  "language_info": {
   "codemirror_mode": {
    "name": "ipython",
    "version": 3
   },
   "file_extension": ".py",
   "mimetype": "text/x-python",
   "name": "python",
   "nbconvert_exporter": "python",
   "pygments_lexer": "ipython3",
   "version": "3.11.4"
  }
 },
 "nbformat": 4,
 "nbformat_minor": 5
}

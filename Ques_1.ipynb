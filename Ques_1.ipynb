{
 "cells": [
  {
   "cell_type": "code",
   "execution_count": 6,
   "id": "c9f7fb38",
   "metadata": {},
   "outputs": [],
   "source": [
    "import psycopg2\n",
    "import pandas as pd\n",
    "import numpy as np\n",
    "from matplotlib import pyplot as plt\n",
    "\n",
    "import matplotlib.pyplot as plt\n"
   ]
  },
  {
   "cell_type": "markdown",
   "id": "3908b4b9",
   "metadata": {},
   "source": [
    "# showing daily total revenue from different countries"
   ]
  },
  {
   "cell_type": "code",
   "execution_count": 7,
   "id": "f63ee5a6",
   "metadata": {},
   "outputs": [],
   "source": [
    "df = pd.read_csv ('ques_1.csv')"
   ]
  },
  {
   "cell_type": "code",
   "execution_count": 8,
   "id": "380de9b0",
   "metadata": {},
   "outputs": [
    {
     "data": {
      "text/html": [
       "<div>\n",
       "<style scoped>\n",
       "    .dataframe tbody tr th:only-of-type {\n",
       "        vertical-align: middle;\n",
       "    }\n",
       "\n",
       "    .dataframe tbody tr th {\n",
       "        vertical-align: top;\n",
       "    }\n",
       "\n",
       "    .dataframe thead th {\n",
       "        text-align: right;\n",
       "    }\n",
       "</style>\n",
       "<table border=\"1\" class=\"dataframe\">\n",
       "  <thead>\n",
       "    <tr style=\"text-align: right;\">\n",
       "      <th></th>\n",
       "      <th>country</th>\n",
       "      <th>sales_amount</th>\n",
       "      <th>payment_date</th>\n",
       "    </tr>\n",
       "  </thead>\n",
       "  <tbody>\n",
       "    <tr>\n",
       "      <th>0</th>\n",
       "      <td>Austria</td>\n",
       "      <td>2.99</td>\n",
       "      <td>2007-02-14</td>\n",
       "    </tr>\n",
       "    <tr>\n",
       "      <th>1</th>\n",
       "      <td>Cambodia</td>\n",
       "      <td>4.99</td>\n",
       "      <td>2007-02-14</td>\n",
       "    </tr>\n",
       "    <tr>\n",
       "      <th>2</th>\n",
       "      <td>China</td>\n",
       "      <td>1.99</td>\n",
       "      <td>2007-02-14</td>\n",
       "    </tr>\n",
       "    <tr>\n",
       "      <th>3</th>\n",
       "      <td>China</td>\n",
       "      <td>5.98</td>\n",
       "      <td>2007-02-14</td>\n",
       "    </tr>\n",
       "    <tr>\n",
       "      <th>4</th>\n",
       "      <td>Egypt</td>\n",
       "      <td>7.99</td>\n",
       "      <td>2007-02-14</td>\n",
       "    </tr>\n",
       "    <tr>\n",
       "      <th>...</th>\n",
       "      <td>...</td>\n",
       "      <td>...</td>\n",
       "      <td>...</td>\n",
       "    </tr>\n",
       "    <tr>\n",
       "      <th>7270</th>\n",
       "      <td>Vietnam</td>\n",
       "      <td>0.99</td>\n",
       "      <td>2007-05-14</td>\n",
       "    </tr>\n",
       "    <tr>\n",
       "      <th>7271</th>\n",
       "      <td>Vietnam</td>\n",
       "      <td>2.99</td>\n",
       "      <td>2007-05-14</td>\n",
       "    </tr>\n",
       "    <tr>\n",
       "      <th>7272</th>\n",
       "      <td>Vietnam</td>\n",
       "      <td>4.99</td>\n",
       "      <td>2007-05-14</td>\n",
       "    </tr>\n",
       "    <tr>\n",
       "      <th>7273</th>\n",
       "      <td>Yemen</td>\n",
       "      <td>2.99</td>\n",
       "      <td>2007-05-14</td>\n",
       "    </tr>\n",
       "    <tr>\n",
       "      <th>7274</th>\n",
       "      <td>Zambia</td>\n",
       "      <td>0.99</td>\n",
       "      <td>2007-05-14</td>\n",
       "    </tr>\n",
       "  </tbody>\n",
       "</table>\n",
       "<p>7275 rows × 3 columns</p>\n",
       "</div>"
      ],
      "text/plain": [
       "       country  sales_amount payment_date\n",
       "0      Austria          2.99   2007-02-14\n",
       "1     Cambodia          4.99   2007-02-14\n",
       "2        China          1.99   2007-02-14\n",
       "3        China          5.98   2007-02-14\n",
       "4        Egypt          7.99   2007-02-14\n",
       "...        ...           ...          ...\n",
       "7270   Vietnam          0.99   2007-05-14\n",
       "7271   Vietnam          2.99   2007-05-14\n",
       "7272   Vietnam          4.99   2007-05-14\n",
       "7273     Yemen          2.99   2007-05-14\n",
       "7274    Zambia          0.99   2007-05-14\n",
       "\n",
       "[7275 rows x 3 columns]"
      ]
     },
     "execution_count": 8,
     "metadata": {},
     "output_type": "execute_result"
    }
   ],
   "source": [
    "df"
   ]
  },
  {
   "cell_type": "markdown",
   "id": "2231480d",
   "metadata": {},
   "source": [
    "# Ques1.   Create a time-series plot showing daily total revenue for top three different countries  in one plot ."
   ]
  },
  {
   "cell_type": "code",
   "execution_count": 9,
   "id": "0eb6055f",
   "metadata": {},
   "outputs": [],
   "source": [
    "df['payment_date'] = pd.to_datetime(df['payment_date'])"
   ]
  },
  {
   "cell_type": "code",
   "execution_count": 10,
   "id": "2dbbfac5",
   "metadata": {},
   "outputs": [],
   "source": [
    "grouped_df = df.groupby(['payment_date', 'country'])['sales_amount'].sum().reset_index()"
   ]
  },
  {
   "cell_type": "code",
   "execution_count": 11,
   "id": "00e1539e",
   "metadata": {},
   "outputs": [],
   "source": [
    "sorted_df = grouped_df.sort_values('sales_amount', ascending=False)"
   ]
  },
  {
   "cell_type": "code",
   "execution_count": 12,
   "id": "b75f654e",
   "metadata": {},
   "outputs": [],
   "source": [
    "top_countries = sorted_df['country'].unique()[:3]"
   ]
  },
  {
   "cell_type": "code",
   "execution_count": 13,
   "id": "115190be",
   "metadata": {},
   "outputs": [],
   "source": [
    "filtered_df = sorted_df[sorted_df['country'].isin(top_countries)]"
   ]
  },
  {
   "cell_type": "code",
   "execution_count": 14,
   "id": "53a81ad9",
   "metadata": {},
   "outputs": [],
   "source": [
    "pivot_df = filtered_df.pivot(index='payment_date', columns='country', values='sales_amount')"
   ]
  },
  {
   "cell_type": "code",
   "execution_count": 15,
   "id": "96b54d27",
   "metadata": {},
   "outputs": [
    {
     "data": {
      "image/png": "[encoded data removed]",
      "text/plain": [
       "<Figure size 640x480 with 1 Axes>"
      ]
     },
     "metadata": {},
     "output_type": "display_data"
    }
   ],
   "source": [
    "pivot_df.plot()\n",
    "plt.xlabel('Date')\n",
    "plt.ylabel('Total Revenue')\n",
    "plt.title('Daily Total Revenue for Top Three Countries')\n",
    "plt.legend()\n",
    "plt.show()"
   ]
  },
  {
   "cell_type": "markdown",
   "id": "e7eb003e",
   "metadata": {},
   "source": [
    "# Ques2.  Carry out a sentiment analysis on movie descriptions adding another column to the data frame that provides a sentiment classification. This can be based on a “rules based system” that you coded OR inference from a LLM such as using the API for chatgpt."
   ]
  },
  {
   "cell_type": "code",
   "execution_count": null,
   "id": "496ba7c9",
   "metadata": {},
   "outputs": [],
   "source": []
  },
  {
   "cell_type": "code",
   "execution_count": null,
   "id": "090af1c9",
   "metadata": {},
   "outputs": [],
   "source": []
  },
  {
   "cell_type": "code",
   "execution_count": null,
   "id": "aec6c419",
   "metadata": {},
   "outputs": [],
   "source": []
  },
  {
   "cell_type": "code",
   "execution_count": null,
   "id": "9fd8e0de",
   "metadata": {},
   "outputs": [],
   "source": []
  },
  {
   "cell_type": "code",
   "execution_count": null,
   "id": "e17cb547",
   "metadata": {},
   "outputs": [],
   "source": []
  },
  {
   "cell_type": "markdown",
   "id": "9f1df597",
   "metadata": {},
   "source": [
    "# Ques3.  Create a visual in the notebook that shows how much revenue is coming from different countries to the DVD store (you will want matplotlib).\n"
   ]
  },
  {
   "cell_type": "code",
   "execution_count": null,
   "id": "0047ff0d",
   "metadata": {},
   "outputs": [],
   "source": []
  },
  {
   "cell_type": "code",
   "execution_count": null,
   "id": "3ebad617",
   "metadata": {},
   "outputs": [],
   "source": []
  },
  {
   "cell_type": "code",
   "execution_count": null,
   "id": "9012af7a",
   "metadata": {},
   "outputs": [],
   "source": []
  },
  {
   "cell_type": "code",
   "execution_count": null,
   "id": "d9a4a317",
   "metadata": {},
   "outputs": [],
   "source": []
  },
  {
   "cell_type": "code",
   "execution_count": null,
   "id": "75e20143",
   "metadata": {},
   "outputs": [],
   "source": []
  },
  {
   "cell_type": "markdown",
   "id": "03aeb3c2",
   "metadata": {},
   "source": [
    "# Ques4.   Do an analysis to show which actors are bringing in the most revenue (top 10 ranked)"
   ]
  },
  {
   "cell_type": "code",
   "execution_count": null,
   "id": "be0d6eef",
   "metadata": {},
   "outputs": [],
   "source": []
  },
  {
   "cell_type": "code",
   "execution_count": null,
   "id": "debbfa4d",
   "metadata": {},
   "outputs": [],
   "source": []
  },
  {
   "cell_type": "code",
   "execution_count": null,
   "id": "d1190df2",
   "metadata": {},
   "outputs": [],
   "source": []
  },
  {
   "cell_type": "code",
   "execution_count": null,
   "id": "3a0bc986",
   "metadata": {},
   "outputs": [],
   "source": []
  },
  {
   "cell_type": "code",
   "execution_count": null,
   "id": "aaf75e01",
   "metadata": {},
   "outputs": [],
   "source": []
  },
  {
   "cell_type": "markdown",
   "id": "9d87f83f",
   "metadata": {},
   "source": [
    "# Ques5.  Create a new data-frame where you classify some different countries into some categories that make sense to you (8 countries min, 20 max) in this df there will be two columns, one column will give the country name, the other column will give the classification category."
   ]
  },
  {
   "cell_type": "code",
   "execution_count": null,
   "id": "6fc68e5e",
   "metadata": {},
   "outputs": [],
   "source": []
  },
  {
   "cell_type": "code",
   "execution_count": null,
   "id": "9174947a",
   "metadata": {},
   "outputs": [],
   "source": []
  },
  {
   "cell_type": "code",
   "execution_count": null,
   "id": "40f1037b",
   "metadata": {},
   "outputs": [],
   "source": []
  },
  {
   "cell_type": "code",
   "execution_count": null,
   "id": "3367e882",
   "metadata": {},
   "outputs": [],
   "source": []
  },
  {
   "cell_type": "code",
   "execution_count": null,
   "id": "ff2d71e4",
   "metadata": {},
   "outputs": [],
   "source": []
  },
  {
   "cell_type": "markdown",
   "id": "280c1af6",
   "metadata": {},
   "source": [
    "# Ques6.  Use an appropriate merge to merge that new data-frame from the last step with a dataframe from the dvd db, that gives the countries, so now countries are connected with their classification. (no need to add this table back to the postgresql db, just doing it in the notebook is fine)"
   ]
  },
  {
   "cell_type": "code",
   "execution_count": null,
   "id": "f1eb2294",
   "metadata": {},
   "outputs": [],
   "source": []
  },
  {
   "cell_type": "code",
   "execution_count": null,
   "id": "5e1ad05a",
   "metadata": {},
   "outputs": [],
   "source": []
  },
  {
   "cell_type": "code",
   "execution_count": null,
   "id": "4e94b25d",
   "metadata": {},
   "outputs": [],
   "source": []
  },
  {
   "cell_type": "code",
   "execution_count": null,
   "id": "d1b6115b",
   "metadata": {},
   "outputs": [],
   "source": []
  }
 ],
 "metadata": {
  "kernelspec": {
   "display_name": "Python 3 (ipykernel)",
   "language": "python",
   "name": "python3"
  },
  "language_info": {
   "codemirror_mode": {
    "name": "ipython",
    "version": 3
   },
   "file_extension": ".py",
   "mimetype": "text/x-python",
   "name": "python",
   "nbconvert_exporter": "python",
   "pygments_lexer": "ipython3",
   "version": "3.11.4"
  }
 },
 "nbformat": 4,
 "nbformat_minor": 5
}
